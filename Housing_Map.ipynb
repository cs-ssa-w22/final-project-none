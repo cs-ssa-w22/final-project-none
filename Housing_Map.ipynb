{
 "cells": [
  {
   "cell_type": "code",
   "execution_count": 1,
   "metadata": {},
   "outputs": [],
   "source": [
    "import pandas as pd\n",
    "import math"
   ]
  },
  {
   "cell_type": "code",
   "execution_count": 13,
   "metadata": {},
   "outputs": [
    {
     "data": {
      "text/html": [
       "<div>\n",
       "<style scoped>\n",
       "    .dataframe tbody tr th:only-of-type {\n",
       "        vertical-align: middle;\n",
       "    }\n",
       "\n",
       "    .dataframe tbody tr th {\n",
       "        vertical-align: top;\n",
       "    }\n",
       "\n",
       "    .dataframe thead th {\n",
       "        text-align: right;\n",
       "    }\n",
       "</style>\n",
       "<table border=\"1\" class=\"dataframe\">\n",
       "  <thead>\n",
       "    <tr style=\"text-align: right;\">\n",
       "      <th></th>\n",
       "      <th>CASE#</th>\n",
       "      <th>PRIMARY DESCRIPTION</th>\n",
       "      <th>LATITUDE</th>\n",
       "      <th>LONGITUDE</th>\n",
       "    </tr>\n",
       "  </thead>\n",
       "  <tbody>\n",
       "    <tr>\n",
       "      <th>2</th>\n",
       "      <td>JE266628</td>\n",
       "      <td>THEFT</td>\n",
       "      <td>41.748486</td>\n",
       "      <td>-87.602675</td>\n",
       "    </tr>\n",
       "    <tr>\n",
       "      <th>3</th>\n",
       "      <td>JE266536</td>\n",
       "      <td>ASSAULT</td>\n",
       "      <td>41.880661</td>\n",
       "      <td>-87.731186</td>\n",
       "    </tr>\n",
       "    <tr>\n",
       "      <th>5</th>\n",
       "      <td>JE267466</td>\n",
       "      <td>ASSAULT</td>\n",
       "      <td>41.871540</td>\n",
       "      <td>-87.705839</td>\n",
       "    </tr>\n",
       "    <tr>\n",
       "      <th>6</th>\n",
       "      <td>JE266473</td>\n",
       "      <td>HOMICIDE</td>\n",
       "      <td>41.780851</td>\n",
       "      <td>-87.649674</td>\n",
       "    </tr>\n",
       "    <tr>\n",
       "      <th>7</th>\n",
       "      <td>JE267222</td>\n",
       "      <td>OTHER OFFENSE</td>\n",
       "      <td>41.859989</td>\n",
       "      <td>-87.735995</td>\n",
       "    </tr>\n",
       "  </tbody>\n",
       "</table>\n",
       "</div>"
      ],
      "text/plain": [
       "      CASE#  PRIMARY DESCRIPTION   LATITUDE  LONGITUDE\n",
       "2  JE266628                THEFT  41.748486 -87.602675\n",
       "3  JE266536              ASSAULT  41.880661 -87.731186\n",
       "5  JE267466              ASSAULT  41.871540 -87.705839\n",
       "6  JE266473             HOMICIDE  41.780851 -87.649674\n",
       "7  JE267222        OTHER OFFENSE  41.859989 -87.735995"
      ]
     },
     "execution_count": 13,
     "metadata": {},
     "output_type": "execute_result"
    }
   ],
   "source": [
    "# Load crime data and take a look at it\n",
    "columns = [\"CASE#\", \" PRIMARY DESCRIPTION\", \"LATITUDE\", \"LONGITUDE\"]\n",
    "crime = pd.read_csv(\"Crimes_Data.csv\", usecols = columns)\n",
    "crime = crime.dropna()\n",
    "crime.head()"
   ]
  },
  {
   "cell_type": "code",
   "execution_count": 15,
   "metadata": {},
   "outputs": [
    {
     "data": {
      "text/plain": [
       "count      202883\n",
       "unique         31\n",
       "top       BATTERY\n",
       "freq        40556\n",
       "Name:  PRIMARY DESCRIPTION, dtype: object"
      ]
     },
     "execution_count": 15,
     "metadata": {},
     "output_type": "execute_result"
    }
   ],
   "source": [
    "# Type of crime descriptive statics\n",
    "crime[\" PRIMARY DESCRIPTION\"].describe()"
   ]
  },
  {
   "cell_type": "code",
   "execution_count": 16,
   "metadata": {},
   "outputs": [
    {
     "data": {
      "text/plain": [
       "{'ARSON',\n",
       " 'ASSAULT',\n",
       " 'BATTERY',\n",
       " 'BURGLARY',\n",
       " 'CONCEALED CARRY LICENSE VIOLATION',\n",
       " 'CRIMINAL DAMAGE',\n",
       " 'CRIMINAL SEXUAL ASSAULT',\n",
       " 'CRIMINAL TRESPASS',\n",
       " 'DECEPTIVE PRACTICE',\n",
       " 'GAMBLING',\n",
       " 'HOMICIDE',\n",
       " 'HUMAN TRAFFICKING',\n",
       " 'INTERFERENCE WITH PUBLIC OFFICER',\n",
       " 'INTIMIDATION',\n",
       " 'KIDNAPPING',\n",
       " 'LIQUOR LAW VIOLATION',\n",
       " 'MOTOR VEHICLE THEFT',\n",
       " 'NARCOTICS',\n",
       " 'NON-CRIMINAL',\n",
       " 'OBSCENITY',\n",
       " 'OFFENSE INVOLVING CHILDREN',\n",
       " 'OTHER NARCOTIC VIOLATION',\n",
       " 'OTHER OFFENSE',\n",
       " 'PROSTITUTION',\n",
       " 'PUBLIC INDECENCY',\n",
       " 'PUBLIC PEACE VIOLATION',\n",
       " 'ROBBERY',\n",
       " 'SEX OFFENSE',\n",
       " 'STALKING',\n",
       " 'THEFT',\n",
       " 'WEAPONS VIOLATION'}"
      ]
     },
     "execution_count": 16,
     "metadata": {},
     "output_type": "execute_result"
    }
   ],
   "source": [
    "# Total types of crimes\n",
    "set(crime[\" PRIMARY DESCRIPTION\"])"
   ]
  },
  {
   "cell_type": "code",
   "execution_count": null,
   "metadata": {},
   "outputs": [],
   "source": [
    "# A dictionary that maps the crime types to Cambridge CHI (Cambridge Crime Harm Index) crime types\n",
    "CRIME_MAPPING = {\n",
    "    'ARSON': 'Damage (Arson)',\n",
    "    'ASSAULT': 'Recent Sexual Assault',\n",
    "    'BATTERY': 'Recent Sexual Assault',\n",
    "    'BURGLARY': 'Dwelling Burglary',\n",
    "    'CONCEALED CARRY LICENSE VIOLATION': 'Threatening Behaviour',\n",
    "    'CRIMINAL DAMAGE': 'Damage (Property)',\n",
    "    'CRIMINAL SEXUAL ASSAULT': 'Recent Sexual Assault',\n",
    "    'CRIMINAL TRESPASS': 'Threatening Behaviour',\n",
    "    'DECEPTIVE PRACTICE': 'Damage (Property)',\n",
    "    'GAMBLING': 'Non Crime Incident',\n",
    "    'HOMICIDE': 'Murder',\n",
    "    'HUMAN TRAFFICKING': 'Deprivation of Liberty',\n",
    "    'INTERFERENCE WITH PUBLIC OFFICER': 'Threatening Behaviour',\n",
    "    'INTIMIDATION': 'Threatening Behaviour',\n",
    "    'KIDNAPPING': 'Attempted Murder',\n",
    "    'LIQUOR LAW VIOLATION': 'Non Crime Incident',\n",
    "    'MOTOR VEHICLE THEFT': 'Motor Vehicle Theft',\n",
    "    'NARCOTICS': 'Manslaughter',\n",
    "    'NON-CRIMINAL': 'Non Crime Incident',\n",
    "    'OBSCENITY': 'Non Crime Incident',\n",
    "    'OFFENSE INVOLVING CHILDREN': 'Threatening Behaviour',\n",
    "    'OTHER NARCOTIC VIOLATION': 'Manslaughter',\n",
    "    'OTHER OFFENSE': 'Non Crime Incident',\n",
    "    'PROSTITUTION': 'Non Crime Incident',\n",
    "    'PUBLIC INDECENCY': 'Non Crime Incident',\n",
    "    'PUBLIC PEACE VIOLATION': 'Domestic Assault',\n",
    "    'ROBBERY': 'Robbery (Business)',\n",
    "    'SEX OFFENSE': 'Recent Sexual Assault',\n",
    "    'STALKING': 'Recent Sexual Assault',\n",
    "    'THEFT': 'Theft',\n",
    "    'WEAPONS VIOLATION': 'Attempted Murder'\n",
    "}\n",
    "\n",
    "# CHI Scores dictionary\n",
    "CHI_SCORES = {\n",
    "    'Murder': 5475,\n",
    "    'Manslaughter': 3825,\n",
    "    'Attempted Murder': 1460,\n",
    "    'Robbery (Business)': 365,\n",
    "    'Recent Sexual Assault': 365,\n",
    "    'Robbery (Non-Business)': 365,\n",
    "    'Historical Sexual Assault': 365,\n",
    "    'Deprivation of Liberty': 84,\n",
    "    'Damage (Arson)': 33,\n",
    "    'Domestic Assault': 20,\n",
    "    'Dwelling Burglary': 20,\n",
    "    'Non-Dwelling Burglary': 20,\n",
    "    'Motor Vehicle Theft': 20,\n",
    "    'Threatening Behaviour': 10,\n",
    "    'Damage (Property)': 2,\n",
    "    'Theft': 2,\n",
    "    'Non-Crime Incident': 0.1\n",
    "}"
   ]
  },
  {
   "cell_type": "code",
   "execution_count": 22,
   "metadata": {},
   "outputs": [],
   "source": [
    "# Calculate number of crime incidents in the neighborhood\n",
    "# From website:\n",
    "# https://www.geeksforgeeks.org/program-distance-two-points-earth/#:~:text=For%20this%20divide%20the%20values,is%20the%20radius%20of%20Earth.\n",
    "def if_crime_in_neighborhood(la1, lo1, la2, lo2, radius):\n",
    "    \"\"\"\n",
    "    Determine whether a crime case is within the neighborhood\n",
    "    of a residential property.\n",
    "    \n",
    "    Inputs:\n",
    "        la1: latitude of property\n",
    "        lo1: longitude of property\n",
    "        la2: latitude of crime case\n",
    "        lo2: longtitude of crime case\n",
    "        radius: radius of neighborhood\n",
    "        \n",
    "    Outputs:\n",
    "        True/False: crime case in/not in neighborhood\n",
    "    \"\"\"\n",
    "\n",
    "    la1 = math.radians(la1)\n",
    "    lo1 = math.radians(lo1)\n",
    "    la2 = math.radians(la2)\n",
    "    lo2 = math.radians(lo2)\n",
    "\n",
    "    la_dist = la1 - la2\n",
    "    lo_dist = lo1 - lo2\n",
    "\n",
    "    a = math.sin(la_dist/2)**2 + math.cos(la1) * math.cos(la2) * math.sin(lo_dist/2)**2\n",
    "\n",
    "    c = 2 * math.asin(math.sqrt(a))\n",
    "\n",
    "    earth_r_in_mile = 3956\n",
    "\n",
    "    if c * earth_r_in_mile <= radius:\n",
    "        return True\n",
    "    else:\n",
    "        return False\n"
   ]
  },
  {
   "cell_type": "code",
   "execution_count": null,
   "metadata": {},
   "outputs": [],
   "source": [
    "#data visualization"
   ]
  }
 ],
 "metadata": {
  "interpreter": {
   "hash": "15cdab398e30ef71ea6bedff180c52df6afb9223e1d11496cd7e9c4786ac7d6b"
  },
  "kernelspec": {
   "display_name": "Python 3",
   "language": "python",
   "name": "python3"
  },
  "language_info": {
   "codemirror_mode": {
    "name": "ipython",
    "version": 3
   },
   "file_extension": ".py",
   "mimetype": "text/x-python",
   "name": "python",
   "nbconvert_exporter": "python",
   "pygments_lexer": "ipython3",
   "version": "3.8.8"
  }
 },
 "nbformat": 4,
 "nbformat_minor": 2
}
